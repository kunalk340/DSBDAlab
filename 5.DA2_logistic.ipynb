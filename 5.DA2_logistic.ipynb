{
 "cells": [
  {
   "cell_type": "code",
   "execution_count": null,
   "metadata": {
    "id": "o4EYjrqP_Nd9"
   },
   "outputs": [],
   "source": [
    "# importing the required libraries\n",
    "\n",
    "import numpy as np\n",
    "import pandas as pd\n"
   ]
  },
  {
   "cell_type": "code",
   "execution_count": null,
   "metadata": {
    "colab": {
     "base_uri": "https://localhost:8080/",
     "height": 424
    },
    "id": "T_sJ-mUE_j8V",
    "outputId": "8950981c-434b-4a0c-e19e-2414ec80584c"
   },
   "outputs": [
    {
     "data": {
      "text/html": [
       "\n",
       "  <div id=\"df-c7060b51-ee30-40f0-863b-5ff066a7caea\">\n",
       "    <div class=\"colab-df-container\">\n",
       "      <div>\n",
       "<style scoped>\n",
       "    .dataframe tbody tr th:only-of-type {\n",
       "        vertical-align: middle;\n",
       "    }\n",
       "\n",
       "    .dataframe tbody tr th {\n",
       "        vertical-align: top;\n",
       "    }\n",
       "\n",
       "    .dataframe thead th {\n",
       "        text-align: right;\n",
       "    }\n",
       "</style>\n",
       "<table border=\"1\" class=\"dataframe\">\n",
       "  <thead>\n",
       "    <tr style=\"text-align: right;\">\n",
       "      <th></th>\n",
       "      <th>User ID</th>\n",
       "      <th>Gender</th>\n",
       "      <th>Age</th>\n",
       "      <th>EstimatedSalary</th>\n",
       "      <th>Purchased</th>\n",
       "    </tr>\n",
       "  </thead>\n",
       "  <tbody>\n",
       "    <tr>\n",
       "      <th>0</th>\n",
       "      <td>15624510</td>\n",
       "      <td>Male</td>\n",
       "      <td>19</td>\n",
       "      <td>19000</td>\n",
       "      <td>0</td>\n",
       "    </tr>\n",
       "    <tr>\n",
       "      <th>1</th>\n",
       "      <td>15810944</td>\n",
       "      <td>Male</td>\n",
       "      <td>35</td>\n",
       "      <td>20000</td>\n",
       "      <td>0</td>\n",
       "    </tr>\n",
       "    <tr>\n",
       "      <th>2</th>\n",
       "      <td>15668575</td>\n",
       "      <td>Female</td>\n",
       "      <td>26</td>\n",
       "      <td>43000</td>\n",
       "      <td>0</td>\n",
       "    </tr>\n",
       "    <tr>\n",
       "      <th>3</th>\n",
       "      <td>15603246</td>\n",
       "      <td>Female</td>\n",
       "      <td>27</td>\n",
       "      <td>57000</td>\n",
       "      <td>0</td>\n",
       "    </tr>\n",
       "    <tr>\n",
       "      <th>4</th>\n",
       "      <td>15804002</td>\n",
       "      <td>Male</td>\n",
       "      <td>19</td>\n",
       "      <td>76000</td>\n",
       "      <td>0</td>\n",
       "    </tr>\n",
       "    <tr>\n",
       "      <th>...</th>\n",
       "      <td>...</td>\n",
       "      <td>...</td>\n",
       "      <td>...</td>\n",
       "      <td>...</td>\n",
       "      <td>...</td>\n",
       "    </tr>\n",
       "    <tr>\n",
       "      <th>395</th>\n",
       "      <td>15691863</td>\n",
       "      <td>Female</td>\n",
       "      <td>46</td>\n",
       "      <td>41000</td>\n",
       "      <td>1</td>\n",
       "    </tr>\n",
       "    <tr>\n",
       "      <th>396</th>\n",
       "      <td>15706071</td>\n",
       "      <td>Male</td>\n",
       "      <td>51</td>\n",
       "      <td>23000</td>\n",
       "      <td>1</td>\n",
       "    </tr>\n",
       "    <tr>\n",
       "      <th>397</th>\n",
       "      <td>15654296</td>\n",
       "      <td>Female</td>\n",
       "      <td>50</td>\n",
       "      <td>20000</td>\n",
       "      <td>1</td>\n",
       "    </tr>\n",
       "    <tr>\n",
       "      <th>398</th>\n",
       "      <td>15755018</td>\n",
       "      <td>Male</td>\n",
       "      <td>36</td>\n",
       "      <td>33000</td>\n",
       "      <td>0</td>\n",
       "    </tr>\n",
       "    <tr>\n",
       "      <th>399</th>\n",
       "      <td>15594041</td>\n",
       "      <td>Female</td>\n",
       "      <td>49</td>\n",
       "      <td>36000</td>\n",
       "      <td>1</td>\n",
       "    </tr>\n",
       "  </tbody>\n",
       "</table>\n",
       "<p>400 rows × 5 columns</p>\n",
       "</div>\n",
       "      <button class=\"colab-df-convert\" onclick=\"convertToInteractive('df-c7060b51-ee30-40f0-863b-5ff066a7caea')\"\n",
       "              title=\"Convert this dataframe to an interactive table.\"\n",
       "              style=\"display:none;\">\n",
       "        \n",
       "  <svg xmlns=\"http://www.w3.org/2000/svg\" height=\"24px\"viewBox=\"0 0 24 24\"\n",
       "       width=\"24px\">\n",
       "    <path d=\"M0 0h24v24H0V0z\" fill=\"none\"/>\n",
       "    <path d=\"M18.56 5.44l.94 2.06.94-2.06 2.06-.94-2.06-.94-.94-2.06-.94 2.06-2.06.94zm-11 1L8.5 8.5l.94-2.06 2.06-.94-2.06-.94L8.5 2.5l-.94 2.06-2.06.94zm10 10l.94 2.06.94-2.06 2.06-.94-2.06-.94-.94-2.06-.94 2.06-2.06.94z\"/><path d=\"M17.41 7.96l-1.37-1.37c-.4-.4-.92-.59-1.43-.59-.52 0-1.04.2-1.43.59L10.3 9.45l-7.72 7.72c-.78.78-.78 2.05 0 2.83L4 21.41c.39.39.9.59 1.41.59.51 0 1.02-.2 1.41-.59l7.78-7.78 2.81-2.81c.8-.78.8-2.07 0-2.86zM5.41 20L4 18.59l7.72-7.72 1.47 1.35L5.41 20z\"/>\n",
       "  </svg>\n",
       "      </button>\n",
       "      \n",
       "  <style>\n",
       "    .colab-df-container {\n",
       "      display:flex;\n",
       "      flex-wrap:wrap;\n",
       "      gap: 12px;\n",
       "    }\n",
       "\n",
       "    .colab-df-convert {\n",
       "      background-color: #E8F0FE;\n",
       "      border: none;\n",
       "      border-radius: 50%;\n",
       "      cursor: pointer;\n",
       "      display: none;\n",
       "      fill: #1967D2;\n",
       "      height: 32px;\n",
       "      padding: 0 0 0 0;\n",
       "      width: 32px;\n",
       "    }\n",
       "\n",
       "    .colab-df-convert:hover {\n",
       "      background-color: #E2EBFA;\n",
       "      box-shadow: 0px 1px 2px rgba(60, 64, 67, 0.3), 0px 1px 3px 1px rgba(60, 64, 67, 0.15);\n",
       "      fill: #174EA6;\n",
       "    }\n",
       "\n",
       "    [theme=dark] .colab-df-convert {\n",
       "      background-color: #3B4455;\n",
       "      fill: #D2E3FC;\n",
       "    }\n",
       "\n",
       "    [theme=dark] .colab-df-convert:hover {\n",
       "      background-color: #434B5C;\n",
       "      box-shadow: 0px 1px 3px 1px rgba(0, 0, 0, 0.15);\n",
       "      filter: drop-shadow(0px 1px 2px rgba(0, 0, 0, 0.3));\n",
       "      fill: #FFFFFF;\n",
       "    }\n",
       "  </style>\n",
       "\n",
       "      <script>\n",
       "        const buttonEl =\n",
       "          document.querySelector('#df-c7060b51-ee30-40f0-863b-5ff066a7caea button.colab-df-convert');\n",
       "        buttonEl.style.display =\n",
       "          google.colab.kernel.accessAllowed ? 'block' : 'none';\n",
       "\n",
       "        async function convertToInteractive(key) {\n",
       "          const element = document.querySelector('#df-c7060b51-ee30-40f0-863b-5ff066a7caea');\n",
       "          const dataTable =\n",
       "            await google.colab.kernel.invokeFunction('convertToInteractive',\n",
       "                                                     [key], {});\n",
       "          if (!dataTable) return;\n",
       "\n",
       "          const docLinkHtml = 'Like what you see? Visit the ' +\n",
       "            '<a target=\"_blank\" href=https://colab.research.google.com/notebooks/data_table.ipynb>data table notebook</a>'\n",
       "            + ' to learn more about interactive tables.';\n",
       "          element.innerHTML = '';\n",
       "          dataTable['output_type'] = 'display_data';\n",
       "          await google.colab.output.renderOutput(dataTable, element);\n",
       "          const docLink = document.createElement('div');\n",
       "          docLink.innerHTML = docLinkHtml;\n",
       "          element.appendChild(docLink);\n",
       "        }\n",
       "      </script>\n",
       "    </div>\n",
       "  </div>\n",
       "  "
      ],
      "text/plain": [
       "      User ID  Gender  Age  EstimatedSalary  Purchased\n",
       "0    15624510    Male   19            19000          0\n",
       "1    15810944    Male   35            20000          0\n",
       "2    15668575  Female   26            43000          0\n",
       "3    15603246  Female   27            57000          0\n",
       "4    15804002    Male   19            76000          0\n",
       "..        ...     ...  ...              ...        ...\n",
       "395  15691863  Female   46            41000          1\n",
       "396  15706071    Male   51            23000          1\n",
       "397  15654296  Female   50            20000          1\n",
       "398  15755018    Male   36            33000          0\n",
       "399  15594041  Female   49            36000          1\n",
       "\n",
       "[400 rows x 5 columns]"
      ]
     },
     "execution_count": 87,
     "metadata": {},
     "output_type": "execute_result"
    }
   ],
   "source": [
    "# reading the dataset\n",
    "\n",
    "df = pd.read_csv(\"/content/sample_data/Social_Network_Ads.csv\")\n",
    "df"
   ]
  },
  {
   "cell_type": "code",
   "execution_count": null,
   "metadata": {
    "colab": {
     "base_uri": "https://localhost:8080/"
    },
    "id": "zK-jYqQz_r0S",
    "outputId": "186c93a3-ef51-4798-951e-b2e8fbe8c389"
   },
   "outputs": [
    {
     "name": "stdout",
     "output_type": "stream",
     "text": [
      "<class 'pandas.core.frame.DataFrame'>\n",
      "RangeIndex: 400 entries, 0 to 399\n",
      "Data columns (total 5 columns):\n",
      " #   Column           Non-Null Count  Dtype \n",
      "---  ------           --------------  ----- \n",
      " 0   User ID          400 non-null    int64 \n",
      " 1   Gender           400 non-null    object\n",
      " 2   Age              400 non-null    int64 \n",
      " 3   EstimatedSalary  400 non-null    int64 \n",
      " 4   Purchased        400 non-null    int64 \n",
      "dtypes: int64(4), object(1)\n",
      "memory usage: 15.8+ KB\n"
     ]
    }
   ],
   "source": [
    "# displaying the type of data\n",
    "df.info()"
   ]
  },
  {
   "cell_type": "code",
   "execution_count": null,
   "metadata": {
    "colab": {
     "base_uri": "https://localhost:8080/"
    },
    "id": "wAatEaym_uBK",
    "outputId": "b16fe195-f6fa-44f5-85e3-94fc7d26358a"
   },
   "outputs": [
    {
     "data": {
      "text/plain": [
       "(400, 5)"
      ]
     },
     "execution_count": 89,
     "metadata": {},
     "output_type": "execute_result"
    }
   ],
   "source": [
    "# dimensions of data\n",
    "\n",
    "df.shape"
   ]
  },
  {
   "cell_type": "code",
   "execution_count": null,
   "metadata": {
    "colab": {
     "base_uri": "https://localhost:8080/"
    },
    "id": "yLEU8XQk_wda",
    "outputId": "b72f3d32-339e-4fcd-b51c-43a872bc71ee"
   },
   "outputs": [
    {
     "data": {
      "text/plain": [
       "<bound method NDFrame.describe of       User ID  Gender  Age  EstimatedSalary  Purchased\n",
       "0    15624510    Male   19            19000          0\n",
       "1    15810944    Male   35            20000          0\n",
       "2    15668575  Female   26            43000          0\n",
       "3    15603246  Female   27            57000          0\n",
       "4    15804002    Male   19            76000          0\n",
       "..        ...     ...  ...              ...        ...\n",
       "395  15691863  Female   46            41000          1\n",
       "396  15706071    Male   51            23000          1\n",
       "397  15654296  Female   50            20000          1\n",
       "398  15755018    Male   36            33000          0\n",
       "399  15594041  Female   49            36000          1\n",
       "\n",
       "[400 rows x 5 columns]>"
      ]
     },
     "execution_count": 90,
     "metadata": {},
     "output_type": "execute_result"
    }
   ],
   "source": [
    "# displaying the statistical means of the data\n",
    "\n",
    "df.describe"
   ]
  },
  {
   "cell_type": "code",
   "execution_count": null,
   "metadata": {
    "colab": {
     "base_uri": "https://localhost:8080/",
     "height": 300
    },
    "id": "h62xg_S9_ymK",
    "outputId": "5d75163f-3e65-497f-bee6-46e68148b74a"
   },
   "outputs": [
    {
     "data": {
      "text/html": [
       "\n",
       "  <div id=\"df-9c48ba7a-29b9-4778-8652-8bdbd76f617a\">\n",
       "    <div class=\"colab-df-container\">\n",
       "      <div>\n",
       "<style scoped>\n",
       "    .dataframe tbody tr th:only-of-type {\n",
       "        vertical-align: middle;\n",
       "    }\n",
       "\n",
       "    .dataframe tbody tr th {\n",
       "        vertical-align: top;\n",
       "    }\n",
       "\n",
       "    .dataframe thead th {\n",
       "        text-align: right;\n",
       "    }\n",
       "</style>\n",
       "<table border=\"1\" class=\"dataframe\">\n",
       "  <thead>\n",
       "    <tr style=\"text-align: right;\">\n",
       "      <th></th>\n",
       "      <th>User ID</th>\n",
       "      <th>Age</th>\n",
       "      <th>EstimatedSalary</th>\n",
       "      <th>Purchased</th>\n",
       "    </tr>\n",
       "  </thead>\n",
       "  <tbody>\n",
       "    <tr>\n",
       "      <th>count</th>\n",
       "      <td>4.000000e+02</td>\n",
       "      <td>400.000000</td>\n",
       "      <td>400.000000</td>\n",
       "      <td>400.000000</td>\n",
       "    </tr>\n",
       "    <tr>\n",
       "      <th>mean</th>\n",
       "      <td>1.569154e+07</td>\n",
       "      <td>37.655000</td>\n",
       "      <td>69742.500000</td>\n",
       "      <td>0.357500</td>\n",
       "    </tr>\n",
       "    <tr>\n",
       "      <th>std</th>\n",
       "      <td>7.165832e+04</td>\n",
       "      <td>10.482877</td>\n",
       "      <td>34096.960282</td>\n",
       "      <td>0.479864</td>\n",
       "    </tr>\n",
       "    <tr>\n",
       "      <th>min</th>\n",
       "      <td>1.556669e+07</td>\n",
       "      <td>18.000000</td>\n",
       "      <td>15000.000000</td>\n",
       "      <td>0.000000</td>\n",
       "    </tr>\n",
       "    <tr>\n",
       "      <th>25%</th>\n",
       "      <td>1.562676e+07</td>\n",
       "      <td>29.750000</td>\n",
       "      <td>43000.000000</td>\n",
       "      <td>0.000000</td>\n",
       "    </tr>\n",
       "    <tr>\n",
       "      <th>50%</th>\n",
       "      <td>1.569434e+07</td>\n",
       "      <td>37.000000</td>\n",
       "      <td>70000.000000</td>\n",
       "      <td>0.000000</td>\n",
       "    </tr>\n",
       "    <tr>\n",
       "      <th>75%</th>\n",
       "      <td>1.575036e+07</td>\n",
       "      <td>46.000000</td>\n",
       "      <td>88000.000000</td>\n",
       "      <td>1.000000</td>\n",
       "    </tr>\n",
       "    <tr>\n",
       "      <th>max</th>\n",
       "      <td>1.581524e+07</td>\n",
       "      <td>60.000000</td>\n",
       "      <td>150000.000000</td>\n",
       "      <td>1.000000</td>\n",
       "    </tr>\n",
       "  </tbody>\n",
       "</table>\n",
       "</div>\n",
       "      <button class=\"colab-df-convert\" onclick=\"convertToInteractive('df-9c48ba7a-29b9-4778-8652-8bdbd76f617a')\"\n",
       "              title=\"Convert this dataframe to an interactive table.\"\n",
       "              style=\"display:none;\">\n",
       "        \n",
       "  <svg xmlns=\"http://www.w3.org/2000/svg\" height=\"24px\"viewBox=\"0 0 24 24\"\n",
       "       width=\"24px\">\n",
       "    <path d=\"M0 0h24v24H0V0z\" fill=\"none\"/>\n",
       "    <path d=\"M18.56 5.44l.94 2.06.94-2.06 2.06-.94-2.06-.94-.94-2.06-.94 2.06-2.06.94zm-11 1L8.5 8.5l.94-2.06 2.06-.94-2.06-.94L8.5 2.5l-.94 2.06-2.06.94zm10 10l.94 2.06.94-2.06 2.06-.94-2.06-.94-.94-2.06-.94 2.06-2.06.94z\"/><path d=\"M17.41 7.96l-1.37-1.37c-.4-.4-.92-.59-1.43-.59-.52 0-1.04.2-1.43.59L10.3 9.45l-7.72 7.72c-.78.78-.78 2.05 0 2.83L4 21.41c.39.39.9.59 1.41.59.51 0 1.02-.2 1.41-.59l7.78-7.78 2.81-2.81c.8-.78.8-2.07 0-2.86zM5.41 20L4 18.59l7.72-7.72 1.47 1.35L5.41 20z\"/>\n",
       "  </svg>\n",
       "      </button>\n",
       "      \n",
       "  <style>\n",
       "    .colab-df-container {\n",
       "      display:flex;\n",
       "      flex-wrap:wrap;\n",
       "      gap: 12px;\n",
       "    }\n",
       "\n",
       "    .colab-df-convert {\n",
       "      background-color: #E8F0FE;\n",
       "      border: none;\n",
       "      border-radius: 50%;\n",
       "      cursor: pointer;\n",
       "      display: none;\n",
       "      fill: #1967D2;\n",
       "      height: 32px;\n",
       "      padding: 0 0 0 0;\n",
       "      width: 32px;\n",
       "    }\n",
       "\n",
       "    .colab-df-convert:hover {\n",
       "      background-color: #E2EBFA;\n",
       "      box-shadow: 0px 1px 2px rgba(60, 64, 67, 0.3), 0px 1px 3px 1px rgba(60, 64, 67, 0.15);\n",
       "      fill: #174EA6;\n",
       "    }\n",
       "\n",
       "    [theme=dark] .colab-df-convert {\n",
       "      background-color: #3B4455;\n",
       "      fill: #D2E3FC;\n",
       "    }\n",
       "\n",
       "    [theme=dark] .colab-df-convert:hover {\n",
       "      background-color: #434B5C;\n",
       "      box-shadow: 0px 1px 3px 1px rgba(0, 0, 0, 0.15);\n",
       "      filter: drop-shadow(0px 1px 2px rgba(0, 0, 0, 0.3));\n",
       "      fill: #FFFFFF;\n",
       "    }\n",
       "  </style>\n",
       "\n",
       "      <script>\n",
       "        const buttonEl =\n",
       "          document.querySelector('#df-9c48ba7a-29b9-4778-8652-8bdbd76f617a button.colab-df-convert');\n",
       "        buttonEl.style.display =\n",
       "          google.colab.kernel.accessAllowed ? 'block' : 'none';\n",
       "\n",
       "        async function convertToInteractive(key) {\n",
       "          const element = document.querySelector('#df-9c48ba7a-29b9-4778-8652-8bdbd76f617a');\n",
       "          const dataTable =\n",
       "            await google.colab.kernel.invokeFunction('convertToInteractive',\n",
       "                                                     [key], {});\n",
       "          if (!dataTable) return;\n",
       "\n",
       "          const docLinkHtml = 'Like what you see? Visit the ' +\n",
       "            '<a target=\"_blank\" href=https://colab.research.google.com/notebooks/data_table.ipynb>data table notebook</a>'\n",
       "            + ' to learn more about interactive tables.';\n",
       "          element.innerHTML = '';\n",
       "          dataTable['output_type'] = 'display_data';\n",
       "          await google.colab.output.renderOutput(dataTable, element);\n",
       "          const docLink = document.createElement('div');\n",
       "          docLink.innerHTML = docLinkHtml;\n",
       "          element.appendChild(docLink);\n",
       "        }\n",
       "      </script>\n",
       "    </div>\n",
       "  </div>\n",
       "  "
      ],
      "text/plain": [
       "            User ID         Age  EstimatedSalary   Purchased\n",
       "count  4.000000e+02  400.000000       400.000000  400.000000\n",
       "mean   1.569154e+07   37.655000     69742.500000    0.357500\n",
       "std    7.165832e+04   10.482877     34096.960282    0.479864\n",
       "min    1.556669e+07   18.000000     15000.000000    0.000000\n",
       "25%    1.562676e+07   29.750000     43000.000000    0.000000\n",
       "50%    1.569434e+07   37.000000     70000.000000    0.000000\n",
       "75%    1.575036e+07   46.000000     88000.000000    1.000000\n",
       "max    1.581524e+07   60.000000    150000.000000    1.000000"
      ]
     },
     "execution_count": 91,
     "metadata": {},
     "output_type": "execute_result"
    }
   ],
   "source": [
    "\n",
    "df.describe()"
   ]
  },
  {
   "cell_type": "code",
   "execution_count": null,
   "metadata": {
    "colab": {
     "base_uri": "https://localhost:8080/"
    },
    "id": "WDIGpjky_66y",
    "outputId": "fa44fece-fe72-4e9c-ba4a-f677efea48d3"
   },
   "outputs": [
    {
     "data": {
      "text/plain": [
       "User ID            0\n",
       "Gender             0\n",
       "Age                0\n",
       "EstimatedSalary    0\n",
       "Purchased          0\n",
       "dtype: int64"
      ]
     },
     "execution_count": 92,
     "metadata": {},
     "output_type": "execute_result"
    }
   ],
   "source": [
    "# checking null values if any in data\n",
    "\n",
    "df.isnull().sum()"
   ]
  },
  {
   "cell_type": "code",
   "execution_count": null,
   "metadata": {
    "colab": {
     "base_uri": "https://localhost:8080/"
    },
    "id": "D7aOQfnWA-NB",
    "outputId": "5ea3606f-11f2-4b72-c62c-ea4fa4c443a5"
   },
   "outputs": [
    {
     "data": {
      "text/plain": [
       "User ID             int64\n",
       "Gender             object\n",
       "Age                 int64\n",
       "EstimatedSalary     int64\n",
       "Purchased           int64\n",
       "dtype: object"
      ]
     },
     "execution_count": 93,
     "metadata": {},
     "output_type": "execute_result"
    }
   ],
   "source": [
    "df.dtypes"
   ]
  },
  {
   "cell_type": "code",
   "execution_count": null,
   "metadata": {
    "id": "8oneSQnlBSwI"
   },
   "outputs": [],
   "source": [
    "df.drop('Gender',inplace=True,axis=1)"
   ]
  },
  {
   "cell_type": "code",
   "execution_count": null,
   "metadata": {
    "colab": {
     "base_uri": "https://localhost:8080/",
     "height": 424
    },
    "id": "Qym2mDs3Bc6Q",
    "outputId": "32f42de9-c513-4114-992a-2c3ee524b3f6"
   },
   "outputs": [
    {
     "data": {
      "text/html": [
       "\n",
       "  <div id=\"df-b2e49299-62ed-447c-bb51-98324986c40f\">\n",
       "    <div class=\"colab-df-container\">\n",
       "      <div>\n",
       "<style scoped>\n",
       "    .dataframe tbody tr th:only-of-type {\n",
       "        vertical-align: middle;\n",
       "    }\n",
       "\n",
       "    .dataframe tbody tr th {\n",
       "        vertical-align: top;\n",
       "    }\n",
       "\n",
       "    .dataframe thead th {\n",
       "        text-align: right;\n",
       "    }\n",
       "</style>\n",
       "<table border=\"1\" class=\"dataframe\">\n",
       "  <thead>\n",
       "    <tr style=\"text-align: right;\">\n",
       "      <th></th>\n",
       "      <th>User ID</th>\n",
       "      <th>Age</th>\n",
       "      <th>EstimatedSalary</th>\n",
       "      <th>Purchased</th>\n",
       "    </tr>\n",
       "  </thead>\n",
       "  <tbody>\n",
       "    <tr>\n",
       "      <th>0</th>\n",
       "      <td>15624510</td>\n",
       "      <td>19</td>\n",
       "      <td>19000</td>\n",
       "      <td>0</td>\n",
       "    </tr>\n",
       "    <tr>\n",
       "      <th>1</th>\n",
       "      <td>15810944</td>\n",
       "      <td>35</td>\n",
       "      <td>20000</td>\n",
       "      <td>0</td>\n",
       "    </tr>\n",
       "    <tr>\n",
       "      <th>2</th>\n",
       "      <td>15668575</td>\n",
       "      <td>26</td>\n",
       "      <td>43000</td>\n",
       "      <td>0</td>\n",
       "    </tr>\n",
       "    <tr>\n",
       "      <th>3</th>\n",
       "      <td>15603246</td>\n",
       "      <td>27</td>\n",
       "      <td>57000</td>\n",
       "      <td>0</td>\n",
       "    </tr>\n",
       "    <tr>\n",
       "      <th>4</th>\n",
       "      <td>15804002</td>\n",
       "      <td>19</td>\n",
       "      <td>76000</td>\n",
       "      <td>0</td>\n",
       "    </tr>\n",
       "    <tr>\n",
       "      <th>...</th>\n",
       "      <td>...</td>\n",
       "      <td>...</td>\n",
       "      <td>...</td>\n",
       "      <td>...</td>\n",
       "    </tr>\n",
       "    <tr>\n",
       "      <th>395</th>\n",
       "      <td>15691863</td>\n",
       "      <td>46</td>\n",
       "      <td>41000</td>\n",
       "      <td>1</td>\n",
       "    </tr>\n",
       "    <tr>\n",
       "      <th>396</th>\n",
       "      <td>15706071</td>\n",
       "      <td>51</td>\n",
       "      <td>23000</td>\n",
       "      <td>1</td>\n",
       "    </tr>\n",
       "    <tr>\n",
       "      <th>397</th>\n",
       "      <td>15654296</td>\n",
       "      <td>50</td>\n",
       "      <td>20000</td>\n",
       "      <td>1</td>\n",
       "    </tr>\n",
       "    <tr>\n",
       "      <th>398</th>\n",
       "      <td>15755018</td>\n",
       "      <td>36</td>\n",
       "      <td>33000</td>\n",
       "      <td>0</td>\n",
       "    </tr>\n",
       "    <tr>\n",
       "      <th>399</th>\n",
       "      <td>15594041</td>\n",
       "      <td>49</td>\n",
       "      <td>36000</td>\n",
       "      <td>1</td>\n",
       "    </tr>\n",
       "  </tbody>\n",
       "</table>\n",
       "<p>400 rows × 4 columns</p>\n",
       "</div>\n",
       "      <button class=\"colab-df-convert\" onclick=\"convertToInteractive('df-b2e49299-62ed-447c-bb51-98324986c40f')\"\n",
       "              title=\"Convert this dataframe to an interactive table.\"\n",
       "              style=\"display:none;\">\n",
       "        \n",
       "  <svg xmlns=\"http://www.w3.org/2000/svg\" height=\"24px\"viewBox=\"0 0 24 24\"\n",
       "       width=\"24px\">\n",
       "    <path d=\"M0 0h24v24H0V0z\" fill=\"none\"/>\n",
       "    <path d=\"M18.56 5.44l.94 2.06.94-2.06 2.06-.94-2.06-.94-.94-2.06-.94 2.06-2.06.94zm-11 1L8.5 8.5l.94-2.06 2.06-.94-2.06-.94L8.5 2.5l-.94 2.06-2.06.94zm10 10l.94 2.06.94-2.06 2.06-.94-2.06-.94-.94-2.06-.94 2.06-2.06.94z\"/><path d=\"M17.41 7.96l-1.37-1.37c-.4-.4-.92-.59-1.43-.59-.52 0-1.04.2-1.43.59L10.3 9.45l-7.72 7.72c-.78.78-.78 2.05 0 2.83L4 21.41c.39.39.9.59 1.41.59.51 0 1.02-.2 1.41-.59l7.78-7.78 2.81-2.81c.8-.78.8-2.07 0-2.86zM5.41 20L4 18.59l7.72-7.72 1.47 1.35L5.41 20z\"/>\n",
       "  </svg>\n",
       "      </button>\n",
       "      \n",
       "  <style>\n",
       "    .colab-df-container {\n",
       "      display:flex;\n",
       "      flex-wrap:wrap;\n",
       "      gap: 12px;\n",
       "    }\n",
       "\n",
       "    .colab-df-convert {\n",
       "      background-color: #E8F0FE;\n",
       "      border: none;\n",
       "      border-radius: 50%;\n",
       "      cursor: pointer;\n",
       "      display: none;\n",
       "      fill: #1967D2;\n",
       "      height: 32px;\n",
       "      padding: 0 0 0 0;\n",
       "      width: 32px;\n",
       "    }\n",
       "\n",
       "    .colab-df-convert:hover {\n",
       "      background-color: #E2EBFA;\n",
       "      box-shadow: 0px 1px 2px rgba(60, 64, 67, 0.3), 0px 1px 3px 1px rgba(60, 64, 67, 0.15);\n",
       "      fill: #174EA6;\n",
       "    }\n",
       "\n",
       "    [theme=dark] .colab-df-convert {\n",
       "      background-color: #3B4455;\n",
       "      fill: #D2E3FC;\n",
       "    }\n",
       "\n",
       "    [theme=dark] .colab-df-convert:hover {\n",
       "      background-color: #434B5C;\n",
       "      box-shadow: 0px 1px 3px 1px rgba(0, 0, 0, 0.15);\n",
       "      filter: drop-shadow(0px 1px 2px rgba(0, 0, 0, 0.3));\n",
       "      fill: #FFFFFF;\n",
       "    }\n",
       "  </style>\n",
       "\n",
       "      <script>\n",
       "        const buttonEl =\n",
       "          document.querySelector('#df-b2e49299-62ed-447c-bb51-98324986c40f button.colab-df-convert');\n",
       "        buttonEl.style.display =\n",
       "          google.colab.kernel.accessAllowed ? 'block' : 'none';\n",
       "\n",
       "        async function convertToInteractive(key) {\n",
       "          const element = document.querySelector('#df-b2e49299-62ed-447c-bb51-98324986c40f');\n",
       "          const dataTable =\n",
       "            await google.colab.kernel.invokeFunction('convertToInteractive',\n",
       "                                                     [key], {});\n",
       "          if (!dataTable) return;\n",
       "\n",
       "          const docLinkHtml = 'Like what you see? Visit the ' +\n",
       "            '<a target=\"_blank\" href=https://colab.research.google.com/notebooks/data_table.ipynb>data table notebook</a>'\n",
       "            + ' to learn more about interactive tables.';\n",
       "          element.innerHTML = '';\n",
       "          dataTable['output_type'] = 'display_data';\n",
       "          await google.colab.output.renderOutput(dataTable, element);\n",
       "          const docLink = document.createElement('div');\n",
       "          docLink.innerHTML = docLinkHtml;\n",
       "          element.appendChild(docLink);\n",
       "        }\n",
       "      </script>\n",
       "    </div>\n",
       "  </div>\n",
       "  "
      ],
      "text/plain": [
       "      User ID  Age  EstimatedSalary  Purchased\n",
       "0    15624510   19            19000          0\n",
       "1    15810944   35            20000          0\n",
       "2    15668575   26            43000          0\n",
       "3    15603246   27            57000          0\n",
       "4    15804002   19            76000          0\n",
       "..        ...  ...              ...        ...\n",
       "395  15691863   46            41000          1\n",
       "396  15706071   51            23000          1\n",
       "397  15654296   50            20000          1\n",
       "398  15755018   36            33000          0\n",
       "399  15594041   49            36000          1\n",
       "\n",
       "[400 rows x 4 columns]"
      ]
     },
     "execution_count": 95,
     "metadata": {},
     "output_type": "execute_result"
    }
   ],
   "source": [
    "df"
   ]
  },
  {
   "cell_type": "code",
   "execution_count": null,
   "metadata": {
    "id": "_9kGwRe0BrwQ"
   },
   "outputs": [],
   "source": [
    "# to train the data and for testing we seperate the categorical data as dependent and independant\n",
    "\n",
    "X = df.drop('Purchased',axis=1)\n",
    "Y = df['Purchased']"
   ]
  },
  {
   "cell_type": "code",
   "execution_count": null,
   "metadata": {
    "colab": {
     "base_uri": "https://localhost:8080/",
     "height": 424
    },
    "id": "5T4DBP1oCoru",
    "outputId": "37581abc-85d9-4c0d-90cd-d458f00b4b80"
   },
   "outputs": [
    {
     "data": {
      "text/html": [
       "\n",
       "  <div id=\"df-29b2adae-f62b-4f14-988d-497e77b05ca4\">\n",
       "    <div class=\"colab-df-container\">\n",
       "      <div>\n",
       "<style scoped>\n",
       "    .dataframe tbody tr th:only-of-type {\n",
       "        vertical-align: middle;\n",
       "    }\n",
       "\n",
       "    .dataframe tbody tr th {\n",
       "        vertical-align: top;\n",
       "    }\n",
       "\n",
       "    .dataframe thead th {\n",
       "        text-align: right;\n",
       "    }\n",
       "</style>\n",
       "<table border=\"1\" class=\"dataframe\">\n",
       "  <thead>\n",
       "    <tr style=\"text-align: right;\">\n",
       "      <th></th>\n",
       "      <th>User ID</th>\n",
       "      <th>Age</th>\n",
       "      <th>EstimatedSalary</th>\n",
       "    </tr>\n",
       "  </thead>\n",
       "  <tbody>\n",
       "    <tr>\n",
       "      <th>0</th>\n",
       "      <td>15624510</td>\n",
       "      <td>19</td>\n",
       "      <td>19000</td>\n",
       "    </tr>\n",
       "    <tr>\n",
       "      <th>1</th>\n",
       "      <td>15810944</td>\n",
       "      <td>35</td>\n",
       "      <td>20000</td>\n",
       "    </tr>\n",
       "    <tr>\n",
       "      <th>2</th>\n",
       "      <td>15668575</td>\n",
       "      <td>26</td>\n",
       "      <td>43000</td>\n",
       "    </tr>\n",
       "    <tr>\n",
       "      <th>3</th>\n",
       "      <td>15603246</td>\n",
       "      <td>27</td>\n",
       "      <td>57000</td>\n",
       "    </tr>\n",
       "    <tr>\n",
       "      <th>4</th>\n",
       "      <td>15804002</td>\n",
       "      <td>19</td>\n",
       "      <td>76000</td>\n",
       "    </tr>\n",
       "    <tr>\n",
       "      <th>...</th>\n",
       "      <td>...</td>\n",
       "      <td>...</td>\n",
       "      <td>...</td>\n",
       "    </tr>\n",
       "    <tr>\n",
       "      <th>395</th>\n",
       "      <td>15691863</td>\n",
       "      <td>46</td>\n",
       "      <td>41000</td>\n",
       "    </tr>\n",
       "    <tr>\n",
       "      <th>396</th>\n",
       "      <td>15706071</td>\n",
       "      <td>51</td>\n",
       "      <td>23000</td>\n",
       "    </tr>\n",
       "    <tr>\n",
       "      <th>397</th>\n",
       "      <td>15654296</td>\n",
       "      <td>50</td>\n",
       "      <td>20000</td>\n",
       "    </tr>\n",
       "    <tr>\n",
       "      <th>398</th>\n",
       "      <td>15755018</td>\n",
       "      <td>36</td>\n",
       "      <td>33000</td>\n",
       "    </tr>\n",
       "    <tr>\n",
       "      <th>399</th>\n",
       "      <td>15594041</td>\n",
       "      <td>49</td>\n",
       "      <td>36000</td>\n",
       "    </tr>\n",
       "  </tbody>\n",
       "</table>\n",
       "<p>400 rows × 3 columns</p>\n",
       "</div>\n",
       "      <button class=\"colab-df-convert\" onclick=\"convertToInteractive('df-29b2adae-f62b-4f14-988d-497e77b05ca4')\"\n",
       "              title=\"Convert this dataframe to an interactive table.\"\n",
       "              style=\"display:none;\">\n",
       "        \n",
       "  <svg xmlns=\"http://www.w3.org/2000/svg\" height=\"24px\"viewBox=\"0 0 24 24\"\n",
       "       width=\"24px\">\n",
       "    <path d=\"M0 0h24v24H0V0z\" fill=\"none\"/>\n",
       "    <path d=\"M18.56 5.44l.94 2.06.94-2.06 2.06-.94-2.06-.94-.94-2.06-.94 2.06-2.06.94zm-11 1L8.5 8.5l.94-2.06 2.06-.94-2.06-.94L8.5 2.5l-.94 2.06-2.06.94zm10 10l.94 2.06.94-2.06 2.06-.94-2.06-.94-.94-2.06-.94 2.06-2.06.94z\"/><path d=\"M17.41 7.96l-1.37-1.37c-.4-.4-.92-.59-1.43-.59-.52 0-1.04.2-1.43.59L10.3 9.45l-7.72 7.72c-.78.78-.78 2.05 0 2.83L4 21.41c.39.39.9.59 1.41.59.51 0 1.02-.2 1.41-.59l7.78-7.78 2.81-2.81c.8-.78.8-2.07 0-2.86zM5.41 20L4 18.59l7.72-7.72 1.47 1.35L5.41 20z\"/>\n",
       "  </svg>\n",
       "      </button>\n",
       "      \n",
       "  <style>\n",
       "    .colab-df-container {\n",
       "      display:flex;\n",
       "      flex-wrap:wrap;\n",
       "      gap: 12px;\n",
       "    }\n",
       "\n",
       "    .colab-df-convert {\n",
       "      background-color: #E8F0FE;\n",
       "      border: none;\n",
       "      border-radius: 50%;\n",
       "      cursor: pointer;\n",
       "      display: none;\n",
       "      fill: #1967D2;\n",
       "      height: 32px;\n",
       "      padding: 0 0 0 0;\n",
       "      width: 32px;\n",
       "    }\n",
       "\n",
       "    .colab-df-convert:hover {\n",
       "      background-color: #E2EBFA;\n",
       "      box-shadow: 0px 1px 2px rgba(60, 64, 67, 0.3), 0px 1px 3px 1px rgba(60, 64, 67, 0.15);\n",
       "      fill: #174EA6;\n",
       "    }\n",
       "\n",
       "    [theme=dark] .colab-df-convert {\n",
       "      background-color: #3B4455;\n",
       "      fill: #D2E3FC;\n",
       "    }\n",
       "\n",
       "    [theme=dark] .colab-df-convert:hover {\n",
       "      background-color: #434B5C;\n",
       "      box-shadow: 0px 1px 3px 1px rgba(0, 0, 0, 0.15);\n",
       "      filter: drop-shadow(0px 1px 2px rgba(0, 0, 0, 0.3));\n",
       "      fill: #FFFFFF;\n",
       "    }\n",
       "  </style>\n",
       "\n",
       "      <script>\n",
       "        const buttonEl =\n",
       "          document.querySelector('#df-29b2adae-f62b-4f14-988d-497e77b05ca4 button.colab-df-convert');\n",
       "        buttonEl.style.display =\n",
       "          google.colab.kernel.accessAllowed ? 'block' : 'none';\n",
       "\n",
       "        async function convertToInteractive(key) {\n",
       "          const element = document.querySelector('#df-29b2adae-f62b-4f14-988d-497e77b05ca4');\n",
       "          const dataTable =\n",
       "            await google.colab.kernel.invokeFunction('convertToInteractive',\n",
       "                                                     [key], {});\n",
       "          if (!dataTable) return;\n",
       "\n",
       "          const docLinkHtml = 'Like what you see? Visit the ' +\n",
       "            '<a target=\"_blank\" href=https://colab.research.google.com/notebooks/data_table.ipynb>data table notebook</a>'\n",
       "            + ' to learn more about interactive tables.';\n",
       "          element.innerHTML = '';\n",
       "          dataTable['output_type'] = 'display_data';\n",
       "          await google.colab.output.renderOutput(dataTable, element);\n",
       "          const docLink = document.createElement('div');\n",
       "          docLink.innerHTML = docLinkHtml;\n",
       "          element.appendChild(docLink);\n",
       "        }\n",
       "      </script>\n",
       "    </div>\n",
       "  </div>\n",
       "  "
      ],
      "text/plain": [
       "      User ID  Age  EstimatedSalary\n",
       "0    15624510   19            19000\n",
       "1    15810944   35            20000\n",
       "2    15668575   26            43000\n",
       "3    15603246   27            57000\n",
       "4    15804002   19            76000\n",
       "..        ...  ...              ...\n",
       "395  15691863   46            41000\n",
       "396  15706071   51            23000\n",
       "397  15654296   50            20000\n",
       "398  15755018   36            33000\n",
       "399  15594041   49            36000\n",
       "\n",
       "[400 rows x 3 columns]"
      ]
     },
     "execution_count": 97,
     "metadata": {},
     "output_type": "execute_result"
    }
   ],
   "source": [
    "X"
   ]
  },
  {
   "cell_type": "code",
   "execution_count": null,
   "metadata": {
    "colab": {
     "base_uri": "https://localhost:8080/"
    },
    "id": "88oW_466Cpte",
    "outputId": "fb89785b-c8ed-4b7b-c6f5-ff27c52b25da"
   },
   "outputs": [
    {
     "data": {
      "text/plain": [
       "0      0\n",
       "1      0\n",
       "2      0\n",
       "3      0\n",
       "4      0\n",
       "      ..\n",
       "395    1\n",
       "396    1\n",
       "397    1\n",
       "398    0\n",
       "399    1\n",
       "Name: Purchased, Length: 400, dtype: int64"
      ]
     },
     "execution_count": 98,
     "metadata": {},
     "output_type": "execute_result"
    }
   ],
   "source": [
    "Y"
   ]
  },
  {
   "cell_type": "code",
   "execution_count": null,
   "metadata": {
    "colab": {
     "base_uri": "https://localhost:8080/"
    },
    "id": "igP8-df7Cque",
    "outputId": "707d0d0c-2868-435e-fba9-af86eb32616c"
   },
   "outputs": [
    {
     "data": {
      "text/plain": [
       "(      User ID  Age  EstimatedSalary\n",
       " 92   15809823   26            15000\n",
       " 223  15593715   60           102000\n",
       " 234  15619407   38           112000\n",
       " 232  15813113   40           107000\n",
       " 377  15800215   42            53000\n",
       " ..        ...  ...              ...\n",
       " 323  15619465   48            30000\n",
       " 192  15779581   29            43000\n",
       " 117  15591433   36            52000\n",
       " 47   15776348   27            54000\n",
       " 172  15794661   26           118000\n",
       " \n",
       " [280 rows x 3 columns],       User ID  Age  EstimatedSalary\n",
       " 132  15725660   30            87000\n",
       " 309  15652400   38            50000\n",
       " 341  15776844   35            75000\n",
       " 196  15738448   30            79000\n",
       " 246  15638003   35            50000\n",
       " ..        ...  ...              ...\n",
       " 216  15636023   49            65000\n",
       " 259  15815236   45           131000\n",
       " 49   15793813   31            89000\n",
       " 238  15617877   46            82000\n",
       " 343  15629739   47            51000\n",
       " \n",
       " [120 rows x 3 columns])"
      ]
     },
     "execution_count": 114,
     "metadata": {},
     "output_type": "execute_result"
    }
   ],
   "source": [
    "# importing sklearn library and doing the train and test split on X and Y\n",
    "\n",
    "from sklearn.model_selection import train_test_split\n",
    "X_train, X_test, y_train, y_test = train_test_split(X, Y, test_size=0.30, random_state=0)\n",
    "X_train,X_test"
   ]
  },
  {
   "cell_type": "code",
   "execution_count": null,
   "metadata": {
    "id": "A0kn-kaAD5dc"
   },
   "outputs": [],
   "source": [
    "# using Standard Scaler() method we transform the data\n",
    "\n",
    "from sklearn.preprocessing import StandardScaler\n",
    "std = StandardScaler()\n",
    "X_train = std.fit_transform(X_train)\n",
    "X_test = std.transform(X_test)"
   ]
  },
  {
   "cell_type": "code",
   "execution_count": null,
   "metadata": {
    "colab": {
     "base_uri": "https://localhost:8080/"
    },
    "id": "UDW2Ma2lEoW7",
    "outputId": "a541f210-e001-4fac-8ba9-8e5ca61620ef"
   },
   "outputs": [
    {
     "data": {
      "text/plain": [
       "array([[ 1.67118864e+00, -1.16317240e+00, -1.58497030e+00],\n",
       "       [-1.38839503e+00,  2.17018137e+00,  9.30986724e-01],\n",
       "       [-1.02465642e+00,  1.33054037e-02,  1.22017719e+00],\n",
       "       [ 1.71776734e+00,  2.09385037e-01,  1.07558195e+00],\n",
       "       [ 1.53516184e+00,  4.05464670e-01, -4.86046541e-01],\n",
       "       [-1.05683679e+00, -2.80814046e-01, -3.12532264e-01],\n",
       "       [ 3.23874887e-01,  9.93703570e-01, -8.33075096e-01],\n",
       "       [ 1.46554862e+00,  9.93703570e-01,  1.85639620e+00],\n",
       "       [ 1.53940914e+00,  1.33054037e-02,  1.24909623e+00],\n",
       "       [ 1.38792217e+00, -8.69052946e-01,  2.26126285e+00],\n",
       "       [-1.71742331e-01, -1.16317240e+00, -1.58497030e+00],\n",
       "       [-7.91253235e-01,  2.17018137e+00, -8.04156050e-01],\n",
       "       [-1.70199146e-01, -1.35925203e+00, -1.46929411e+00],\n",
       "       [ 1.38112224e-01,  4.05464670e-01,  2.29018190e+00],\n",
       "       [-3.55452132e-01,  7.97623937e-01,  7.57472446e-01],\n",
       "       [-1.39831955e+00, -9.67092763e-01, -3.12532264e-01],\n",
       "       [-9.79663379e-01,  1.11345220e-01,  7.57472446e-01],\n",
       "       [-2.87499610e-02, -9.67092763e-01,  5.55039123e-01],\n",
       "       [ 3.06956482e-01,  3.07424854e-01,  6.34153371e-02],\n",
       "       [-1.05190992e+00,  6.99584120e-01, -1.26686079e+00],\n",
       "       [ 8.20054163e-02, -4.76893680e-01, -2.33418016e-02],\n",
       "       [ 4.61827129e-01, -1.75141130e+00,  3.52605799e-01],\n",
       "       [-1.56560647e+00, -6.72973313e-01,  1.21253430e-01],\n",
       "       [ 6.70765882e-01,  4.05464670e-01,  2.94767707e-01],\n",
       "       [ 1.07455651e+00, -2.80814046e-01,  6.34153371e-02],\n",
       "       [-2.24153990e-01, -4.76893680e-01,  2.29018190e+00],\n",
       "       [-1.66856098e+00,  2.09385037e-01,  3.44962908e-02],\n",
       "       [ 4.28684046e-01,  1.28782302e+00,  2.20342476e+00],\n",
       "       [-6.44947972e-01,  7.97623937e-01,  2.65848661e-01],\n",
       "       [-1.76754143e-01, -2.80814046e-01,  1.50172476e-01],\n",
       "       [ 2.09859000e-02,  1.33054037e-02, -5.43884634e-01],\n",
       "       [ 1.69653085e+00, -1.82774230e-01,  1.50172476e-01],\n",
       "       [ 3.13313272e-01, -8.47344130e-02,  2.36929614e-01],\n",
       "       [-1.02117364e+00,  1.33054037e-02, -2.54694171e-01],\n",
       "       [ 1.24229647e+00,  2.17018137e+00,  1.10450100e+00],\n",
       "       [-3.29557771e-01, -1.75141130e+00,  3.52605799e-01],\n",
       "       [ 5.05220359e-01,  1.87606192e+00,  1.21253430e-01],\n",
       "       [-1.14649725e+00,  4.05464670e-01, -1.39017986e-01],\n",
       "       [ 7.54621704e-01, -1.16317240e+00,  2.94767707e-01],\n",
       "       [ 7.82370719e-01,  7.97623937e-01,  1.36477242e+00],\n",
       "       [-8.84244995e-02, -2.80814046e-01, -2.54694171e-01],\n",
       "       [-7.47789217e-01, -1.65337148e+00, -5.22608478e-02],\n",
       "       [ 1.20271166e+00, -9.67092763e-01, -7.46317957e-01],\n",
       "       [-1.61362925e+00,  3.07424854e-01,  4.97201030e-01],\n",
       "       [-1.30602577e+00, -8.47344130e-02, -1.06442747e+00],\n",
       "       [ 4.68283023e-01, -1.06513258e+00,  5.83958169e-01],\n",
       "       [ 3.78193582e-02,  1.11345220e-01, -8.04156050e-01],\n",
       "       [-1.54728646e+00, -9.67092763e-01,  1.53828669e+00],\n",
       "       [-3.94187491e-01, -6.72973313e-01,  1.39369146e+00],\n",
       "       [-2.57141339e-01, -1.26121221e+00,  4.97201030e-01],\n",
       "       [-1.08949851e+00, -2.80814046e-01,  3.44962908e-02],\n",
       "       [ 8.30563395e-01, -8.47344130e-02,  5.57724463e-03],\n",
       "       [-8.95595192e-01, -2.80814046e-01, -8.90913188e-01],\n",
       "       [-1.40460556e+00,  8.95663754e-01, -1.35361793e+00],\n",
       "       [ 1.45075387e+00, -2.80814046e-01,  2.23234380e+00],\n",
       "       [ 9.93418962e-01,  9.93703570e-01,  1.97207239e+00],\n",
       "       [ 4.12855782e-01, -1.16317240e+00,  4.68281984e-01],\n",
       "       [ 1.51583663e+00, -1.26121221e+00,  2.65848661e-01],\n",
       "       [ 1.17636425e+00,  1.38586284e+00,  1.97207239e+00],\n",
       "       [ 2.02303057e-01,  1.28782302e+00, -1.35361793e+00],\n",
       "       [-1.65332733e+00, -2.80814046e-01, -2.83613218e-01],\n",
       "       [ 1.28478361e+00, -4.76893680e-01,  1.24909623e+00],\n",
       "       [-6.07462735e-02, -7.71013130e-01,  1.07558195e+00],\n",
       "       [-2.99670950e-01,  9.93703570e-01, -1.06442747e+00],\n",
       "       [ 1.38249979e+00,  3.07424854e-01,  2.94767707e-01],\n",
       "       [ 4.63724256e-01,  9.93703570e-01,  7.57472446e-01],\n",
       "       [-3.13248147e-01, -6.72973313e-01, -1.49821316e+00],\n",
       "       [ 1.17431139e+00, -6.72973313e-01,  3.44962908e-02],\n",
       "       [-1.61776329e+00,  5.03504487e-01,  1.71180097e+00],\n",
       "       [-5.11049067e-02,  2.07214155e+00,  1.79091522e-01],\n",
       "       [ 1.02520291e+00, -1.94749093e+00, -7.46317957e-01],\n",
       "       [ 1.48045664e+00, -1.82774230e-01,  1.39369146e+00],\n",
       "       [-1.47753166e+00,  4.05464670e-01,  5.83958169e-01],\n",
       "       [-8.24693629e-01,  8.95663754e-01, -1.15118460e+00],\n",
       "       [-3.28552578e-01, -1.16317240e+00, -7.75237003e-01],\n",
       "       [-1.55331762e+00,  2.09385037e-01,  2.36929614e-01],\n",
       "       [ 1.40716243e+00,  7.97623937e-01, -3.12532264e-01],\n",
       "       [ 2.23893489e-01,  2.07214155e+00, -8.04156050e-01],\n",
       "       [-1.34211364e+00,  7.97623937e-01,  1.21253430e-01],\n",
       "       [-4.05202151e-01, -2.80814046e-01,  6.12877215e-01],\n",
       "       [-1.15213200e+00, -9.67092763e-01, -3.12532264e-01],\n",
       "       [-4.42295221e-01,  2.09385037e-01, -3.70370356e-01],\n",
       "       [ 5.83370644e-01,  2.07214155e+00,  2.11666762e+00],\n",
       "       [ 1.46857411e-02,  1.87606192e+00, -1.26686079e+00],\n",
       "       [-1.11516635e+00,  1.38586284e+00, -9.19832234e-01],\n",
       "       [ 5.97330097e-01,  8.95663754e-01,  1.24909623e+00],\n",
       "       [ 1.13673696e+00,  1.48390265e+00,  2.11666762e+00],\n",
       "       [ 3.02440189e-01, -2.80814046e-01, -1.23794174e+00],\n",
       "       [-4.37693982e-01,  1.97410174e+00,  9.02067677e-01],\n",
       "       [ 8.04258462e-01,  6.99584120e-01, -7.17398911e-01],\n",
       "       [-5.26773981e-01, -1.45729185e+00,  3.52605799e-01],\n",
       "       [ 1.88740018e-01,  7.97623937e-01, -1.35361793e+00],\n",
       "       [ 1.10600068e+00,  4.05464670e-01, -1.39017986e-01],\n",
       "       [ 3.36376101e-01, -9.67092763e-01,  4.10443892e-01],\n",
       "       [ 6.29255621e-01,  1.33054037e-02, -3.12532264e-01],\n",
       "       [ 1.42030074e+00, -1.16317240e+00,  4.10443892e-01],\n",
       "       [ 1.06215016e-01, -8.69052946e-01, -1.20902270e+00],\n",
       "       [-4.47122983e-01, -8.47344130e-02,  3.44962908e-02],\n",
       "       [ 9.97354792e-01, -1.55533166e+00, -4.28208449e-01],\n",
       "       [-3.29317091e-01,  9.93703570e-01, -1.00658937e+00],\n",
       "       [ 2.24431480e-01,  1.09174339e+00, -1.20902270e+00],\n",
       "       [ 3.64960417e-01,  1.33054037e-02, -1.39017986e-01],\n",
       "       [ 1.02837423e+00, -1.06513258e+00, -1.52713221e+00],\n",
       "       [ 1.81236458e-01,  7.97623937e-01, -1.20902270e+00],\n",
       "       [-7.52277196e-01,  9.93703570e-01,  2.05882953e+00],\n",
       "       [-5.19001425e-01, -1.16317240e+00, -1.52713221e+00],\n",
       "       [ 8.68151983e-01, -2.80814046e-01,  7.86391493e-01],\n",
       "       [ 9.32286185e-01,  1.11345220e-01, -3.12532264e-01],\n",
       "       [ 4.89519513e-01, -1.35925203e+00, -1.23794174e+00],\n",
       "       [ 1.86956153e-01, -5.74933496e-01, -1.49821316e+00],\n",
       "       [-2.90694994e-01,  7.97623937e-01,  5.26120077e-01],\n",
       "       [-4.90119798e-01, -2.80814046e-01, -3.41451310e-01],\n",
       "       [ 1.18291925e+00,  1.77802210e+00, -2.83613218e-01],\n",
       "       [-2.75390563e-01,  8.95663754e-01, -1.03550842e+00],\n",
       "       [ 3.72346468e-04,  2.09385037e-01,  6.34153371e-02],\n",
       "       [ 7.43238945e-01, -5.74933496e-01,  8.73148631e-01],\n",
       "       [-2.78774244e-01, -1.84945111e+00, -1.41145602e+00],\n",
       "       [-2.99614320e-01, -1.26121221e+00,  5.83958169e-01],\n",
       "       [ 2.75172535e-01, -2.80814046e-01,  5.26120077e-01],\n",
       "       [ 3.30982032e-01, -9.67092763e-01, -1.09334651e+00],\n",
       "       [-5.30709810e-01,  1.18978320e+00, -1.44037507e+00],\n",
       "       [-6.94528099e-01,  2.09385037e-01, -3.12532264e-01],\n",
       "       [ 4.58415133e-01,  1.18978320e+00, -7.46317957e-01],\n",
       "       [-2.48830792e-01, -2.80814046e-01,  6.34153371e-02],\n",
       "       [ 1.54471826e+00,  2.09385037e-01,  2.08774857e+00],\n",
       "       [-6.46873414e-01,  7.97623937e-01, -1.09334651e+00],\n",
       "       [-3.73276627e-01,  1.11345220e-01,  3.44962908e-02],\n",
       "       [ 1.07724647e+00, -1.75141130e+00,  1.21253430e-01],\n",
       "       [-1.26581801e+00, -8.69052946e-01,  1.50172476e-01],\n",
       "       [ 1.05691182e-01, -6.72973313e-01,  1.79091522e-01],\n",
       "       [ 5.96055908e-01,  8.95663754e-01, -1.29577984e+00],\n",
       "       [-1.53815477e+00,  2.09385037e-01, -2.54694171e-01],\n",
       "       [-5.63456479e-01, -3.78853863e-01,  1.22017719e+00],\n",
       "       [ 8.79941067e-02,  1.33054037e-02,  2.94767707e-01],\n",
       "       [ 1.32215984e+00,  4.05464670e-01,  1.50172476e-01],\n",
       "       [ 1.05937950e+00,  8.95663754e-01, -6.59560818e-01],\n",
       "       [-1.37357196e+00,  1.11345220e-01,  1.50172476e-01],\n",
       "       [ 6.98146797e-01, -1.84945111e+00, -1.29577984e+00],\n",
       "       [ 8.79081697e-01, -8.47344130e-02,  2.94767707e-01],\n",
       "       [-9.66680805e-01, -1.82774230e-01, -2.83613218e-01],\n",
       "       [ 5.50822183e-01,  3.07424854e-01, -5.14965587e-01],\n",
       "       [-1.34527080e+00, -1.82774230e-01,  1.59612479e+00],\n",
       "       [-1.00092819e+00,  9.93703570e-01, -1.18010365e+00],\n",
       "       [ 1.46450095e+00, -1.82774230e-01,  1.62504383e+00],\n",
       "       [-1.24360464e+00,  1.28782302e+00,  1.85639620e+00],\n",
       "       [-1.25345837e+00, -1.06513258e+00, -3.70370356e-01],\n",
       "       [ 6.02129544e-01,  1.33054037e-02,  3.44962908e-02],\n",
       "       [ 7.41620725e-02,  1.11345220e-01, -2.54694171e-01],\n",
       "       [ 1.16655299e+00, -1.55533166e+00, -1.23794174e+00],\n",
       "       [ 9.52588270e-01, -4.76893680e-01, -2.83613218e-01],\n",
       "       [-1.92270939e-01,  9.93703570e-01,  1.21253430e-01],\n",
       "       [ 8.15471329e-01,  1.97410174e+00, -1.35361793e+00],\n",
       "       [-6.34910191e-01,  1.48390265e+00,  6.34153371e-02],\n",
       "       [ 3.54833443e-02, -5.74933496e-01,  1.36477242e+00],\n",
       "       [ 1.22585943e+00,  1.58194247e+00,  5.57724463e-03],\n",
       "       [-1.35721987e+00, -7.71013130e-01,  2.94767707e-01],\n",
       "       [-1.72922655e+00,  1.97410174e+00,  7.28553400e-01],\n",
       "       [-1.21058898e+00, -1.16317240e+00, -5.14965587e-01],\n",
       "       [-2.26390900e-01,  6.99584120e-01,  2.65848661e-01],\n",
       "       [ 4.47990848e-02, -1.35925203e+00, -4.28208449e-01],\n",
       "       [ 4.22044104e-01,  2.09385037e-01,  1.50172476e-01],\n",
       "       [-2.25630634e-02, -4.76893680e-01, -1.20902270e+00],\n",
       "       [ 3.37522871e-01,  6.01544304e-01,  2.00099143e+00],\n",
       "       [-6.92262873e-01, -1.55533166e+00, -1.49821316e+00],\n",
       "       [-1.41387882e+00, -4.76893680e-01, -5.43884634e-01],\n",
       "       [-1.56154747e-01,  5.03504487e-01,  1.82747716e+00],\n",
       "       [ 3.69982139e-02, -1.35925203e+00, -1.09334651e+00],\n",
       "       [ 7.98817673e-02,  7.97623937e-01, -1.38253697e+00],\n",
       "       [-9.79809203e-02, -2.80814046e-01, -4.28208449e-01],\n",
       "       [-3.44947148e-01,  1.58194247e+00,  9.88824816e-01],\n",
       "       [-1.44502568e+00,  9.93703570e-01,  1.42261051e+00],\n",
       "       [-1.66319522e+00, -2.80814046e-01, -4.86046541e-01],\n",
       "       [ 4.38505216e-02, -8.47344130e-02,  2.14558666e+00],\n",
       "       [-1.36829116e+00, -1.45729185e+00, -1.10098940e-01],\n",
       "       [ 4.10052565e-01, -8.47344130e-02,  1.94315334e+00],\n",
       "       [-2.34970442e-01, -6.72973313e-01, -3.41451310e-01],\n",
       "       [-1.70915099e+00, -4.76893680e-01, -8.33075096e-01],\n",
       "       [-1.31242503e+00,  6.99584120e-01, -1.38253697e+00],\n",
       "       [ 1.41896992e+00, -7.71013130e-01, -1.58497030e+00],\n",
       "       [-9.52409883e-01, -1.84945111e+00, -1.46929411e+00],\n",
       "       [ 2.32388085e-01,  1.09174339e+00,  1.21253430e-01],\n",
       "       [-3.68406392e-01,  1.11345220e-01,  1.50936765e+00],\n",
       "       [-1.64353023e+00, -2.80814046e-01,  9.23343833e-02],\n",
       "       [-9.14042623e-01,  1.11345220e-01,  3.44962908e-02],\n",
       "       [-1.52432273e+00, -1.35925203e+00, -1.35361793e+00],\n",
       "       [-1.16297677e+00,  3.07424854e-01,  6.34153371e-02],\n",
       "       [ 1.34796925e+00, -8.69052946e-01,  3.81524845e-01],\n",
       "       [-9.48941256e-01,  1.58194247e+00, -1.26686079e+00],\n",
       "       [ 2.50014372e-01, -2.80814046e-01, -7.46317957e-01],\n",
       "       [-1.42288310e+00, -8.47344130e-02,  1.50172476e-01],\n",
       "       [-1.58566787e+00, -8.69052946e-01, -6.59560818e-01],\n",
       "       [-1.36561536e+00, -6.72973313e-01, -5.22608478e-02],\n",
       "       [ 1.35585507e+00,  4.05464670e-01, -4.57127495e-01],\n",
       "       [ 5.08462463e-01, -7.71013130e-01,  1.88531525e+00],\n",
       "       [ 1.45518521e+00,  1.38586284e+00,  1.27801528e+00],\n",
       "       [ 9.61337704e-01,  1.18978320e+00, -9.77670327e-01],\n",
       "       [-9.11144550e-02,  1.77802210e+00,  1.82747716e+00],\n",
       "       [ 1.24701098e+00, -8.69052946e-01, -2.54694171e-01],\n",
       "       [ 1.29184829e+00, -7.71013130e-01,  5.55039123e-01],\n",
       "       [-8.78581931e-02, -1.16317240e+00, -1.55605125e+00],\n",
       "       [ 1.54977254e+00, -4.76893680e-01, -1.12226556e+00],\n",
       "       [-2.88741237e-01,  3.07424854e-01,  6.34153371e-02],\n",
       "       [ 8.95278060e-01, -1.82774230e-01, -1.06442747e+00],\n",
       "       [-2.68439152e-01,  1.67998229e+00,  1.59612479e+00],\n",
       "       [-1.64985871e+00,  9.93703570e-01,  1.76963906e+00],\n",
       "       [ 1.66444959e+00,  3.07424854e-01,  3.44962908e-02],\n",
       "       [ 1.51313252e+00, -7.71013130e-01, -2.25775125e-01],\n",
       "       [ 6.97509702e-01, -8.47344130e-02,  6.34153371e-02],\n",
       "       [ 3.53931600e-01,  3.07424854e-01, -1.96856079e-01],\n",
       "       [-1.66224666e+00,  1.97410174e+00, -6.59560818e-01],\n",
       "       [-7.83678886e-01, -7.71013130e-01,  1.33585337e+00],\n",
       "       [ 2.50509890e-01, -1.75141130e+00, -6.01722726e-01],\n",
       "       [-1.56441723e+00, -8.47344130e-02,  1.21253430e-01],\n",
       "       [ 1.44129230e-01,  3.07424854e-01, -3.12532264e-01],\n",
       "       [-1.34865448e+00,  1.09174339e+00,  5.55039123e-01],\n",
       "       [ 1.63803140e+00, -9.67092763e-01,  2.65848661e-01],\n",
       "       [-1.14097576e+00,  1.48390265e+00,  3.52605799e-01],\n",
       "       [ 1.45415170e+00,  2.09385037e-01, -3.70370356e-01],\n",
       "       [-1.20778576e+00,  2.17018137e+00, -1.03550842e+00],\n",
       "       [ 1.14700126e+00, -2.80814046e-01,  1.10450100e+00],\n",
       "       [ 1.55559134e+00, -1.65337148e+00,  6.34153371e-02],\n",
       "       [ 1.24534037e+00,  1.33054037e-02,  3.44962908e-02],\n",
       "       [-1.44879161e+00,  1.11345220e-01,  1.04666291e+00],\n",
       "       [ 8.28977737e-01, -8.47344130e-02, -3.70370356e-01],\n",
       "       [-2.83375483e-01, -1.16317240e+00,  6.34153371e-02],\n",
       "       [-2.84946984e-01, -2.80814046e-01, -1.35361793e+00],\n",
       "       [ 1.08121061e+00,  1.58194247e+00,  1.10450100e+00],\n",
       "       [ 4.38551936e-01, -7.71013130e-01, -1.52713221e+00],\n",
       "       [-1.48690404e+00,  1.11345220e-01,  1.85639620e+00],\n",
       "       [ 7.46778360e-01, -8.69052946e-01, -7.75237003e-01],\n",
       "       [-1.25242486e+00, -4.76893680e-01, -7.75237003e-01],\n",
       "       [ 9.35188505e-01, -2.80814046e-01, -9.19832234e-01],\n",
       "       [-1.63609746e+00,  3.07424854e-01, -7.17398911e-01],\n",
       "       [-1.48352036e+00,  3.07424854e-01,  6.34153371e-02],\n",
       "       [ 6.19642570e-01,  1.11345220e-01,  1.85639620e+00],\n",
       "       [ 5.27688566e-01, -1.06513258e+00,  1.94315334e+00],\n",
       "       [-1.67527171e+00, -1.65337148e+00, -1.55605125e+00],\n",
       "       [ 7.56731196e-01, -1.16317240e+00, -1.09334651e+00],\n",
       "       [ 1.74187784e+00, -6.72973313e-01, -1.10098940e-01],\n",
       "       [-8.76312458e-01,  1.11345220e-01,  9.23343833e-02],\n",
       "       [-5.96231463e-01,  3.07424854e-01,  2.65848661e-01],\n",
       "       [ 1.08009216e+00,  8.95663754e-01, -5.72803680e-01],\n",
       "       [ 8.11917756e-01,  3.07424854e-01, -1.15118460e+00],\n",
       "       [ 5.99991737e-01, -8.47344130e-02,  6.70715308e-01],\n",
       "       [-1.13759208e+00,  2.17018137e+00, -6.88479865e-01],\n",
       "       [-1.37619113e+00, -1.26121221e+00, -1.38253697e+00],\n",
       "       [ 9.20790164e-01, -9.67092763e-01, -9.48751281e-01],\n",
       "       [ 1.68502067e+00,  1.33054037e-02, -4.28208449e-01],\n",
       "       [-1.27746977e+00, -1.82774230e-01, -4.57127495e-01],\n",
       "       [-1.63360996e-01, -1.75141130e+00, -9.77670327e-01],\n",
       "       [ 1.10166843e+00,  1.77802210e+00,  9.88824816e-01],\n",
       "       [-3.60269984e-02,  2.09385037e-01, -3.70370356e-01],\n",
       "       [ 1.55103257e+00,  4.05464670e-01,  1.10450100e+00],\n",
       "       [-1.36697449e+00, -1.75141130e+00, -1.35361793e+00],\n",
       "       [-1.48095782e+00,  2.09385037e-01, -1.39017986e-01],\n",
       "       [-8.58275599e-01,  8.95663754e-01, -1.44037507e+00],\n",
       "       [-1.60043431e+00, -1.94749093e+00,  4.68281984e-01],\n",
       "       [-1.12293890e+00, -2.80814046e-01,  2.65848661e-01],\n",
       "       [ 1.62981995e+00,  1.87606192e+00, -1.06442747e+00],\n",
       "       [-6.72286414e-01, -3.78853863e-01,  6.34153371e-02],\n",
       "       [ 4.58259399e-01,  1.09174339e+00, -8.90913188e-01],\n",
       "       [ 1.28869113e+00, -1.06513258e+00, -1.12226556e+00],\n",
       "       [-4.08883143e-01, -1.84945111e+00,  5.57724463e-03],\n",
       "       [ 7.83135232e-01,  1.11345220e-01,  2.65848661e-01],\n",
       "       [ 1.09062546e+00, -1.16317240e+00,  3.23686753e-01],\n",
       "       [ 9.22375822e-01, -1.26121221e+00,  2.94767707e-01],\n",
       "       [-8.47614881e-01, -9.67092763e-01,  4.39362938e-01],\n",
       "       [-9.39880354e-01,  1.67998229e+00, -8.90913188e-01],\n",
       "       [ 1.25706291e+00,  1.18978320e+00,  5.26120077e-01],\n",
       "       [ 1.03099339e+00,  1.09174339e+00,  5.26120077e-01],\n",
       "       [ 6.24300440e-01,  1.38586284e+00,  2.31910094e+00],\n",
       "       [ 5.03011764e-01, -2.80814046e-01, -1.39017986e-01],\n",
       "       [ 2.46361696e-01,  4.05464670e-01, -4.57127495e-01],\n",
       "       [-3.40345909e-01, -3.78853863e-01, -7.75237003e-01],\n",
       "       [ 4.47258897e-01, -8.47344130e-02, -5.14965587e-01],\n",
       "       [-1.02383528e+00,  9.93703570e-01, -1.15118460e+00],\n",
       "       [ 1.24303267e+00, -8.69052946e-01, -7.75237003e-01],\n",
       "       [-1.42070282e+00, -1.82774230e-01, -5.14965587e-01],\n",
       "       [ 1.19726096e+00, -1.06513258e+00, -4.57127495e-01],\n",
       "       [ 1.45653019e+00, -1.16317240e+00,  1.39369146e+00]])"
      ]
     },
     "execution_count": 116,
     "metadata": {},
     "output_type": "execute_result"
    }
   ],
   "source": [
    "X_train"
   ]
  },
  {
   "cell_type": "code",
   "execution_count": null,
   "metadata": {
    "colab": {
     "base_uri": "https://localhost:8080/"
    },
    "id": "7iOrH8BvE1J6",
    "outputId": "f394bd84-37dc-44db-f4b8-a72fa3810d1b"
   },
   "outputs": [
    {
     "data": {
      "text/plain": [
       "(120, 3)"
      ]
     },
     "execution_count": 117,
     "metadata": {},
     "output_type": "execute_result"
    }
   ],
   "source": [
    "X_test.shape"
   ]
  },
  {
   "cell_type": "code",
   "execution_count": null,
   "metadata": {
    "colab": {
     "base_uri": "https://localhost:8080/"
    },
    "id": "LcAam4vfFIT5",
    "outputId": "2c0596f4-40ee-4109-baea-019eb9a00c9b"
   },
   "outputs": [
    {
     "data": {
      "text/plain": [
       "LogisticRegression()"
      ]
     },
     "execution_count": 118,
     "metadata": {},
     "output_type": "execute_result"
    }
   ],
   "source": [
    "#using LogisticRegression() method we create the model and \n",
    "#fit the data for predicting the tested results\n",
    "\n",
    "from sklearn.linear_model import LogisticRegression\n",
    "\n",
    "model = LogisticRegression()\n",
    "model.fit(X_train,y_train)"
   ]
  },
  {
   "cell_type": "code",
   "execution_count": null,
   "metadata": {
    "colab": {
     "base_uri": "https://localhost:8080/"
    },
    "id": "68HvQtaHFrlp",
    "outputId": "408afc71-f408-4c1f-9f18-f0c88b63611e"
   },
   "outputs": [
    {
     "data": {
      "text/plain": [
       "array([0, 0, 0, 0, 0, 0, 0, 1, 0, 1, 0, 0, 0, 0, 0, 0, 0, 0, 1, 0, 0, 1,\n",
       "       0, 1, 0, 1, 0, 0, 0, 0, 0, 0, 1, 0, 0, 0, 0, 0, 0, 1, 0, 0, 0, 0,\n",
       "       1, 0, 0, 1, 0, 1, 1, 0, 0, 0, 1, 0, 0, 0, 0, 0, 0, 1, 0, 0, 0, 1,\n",
       "       0, 0, 0, 0, 1, 0, 0, 0, 0, 0, 0, 0, 1, 1, 1, 1, 0, 0, 1, 1, 0, 1,\n",
       "       0, 0, 0, 1, 0, 0, 0, 0, 0, 0, 1, 1, 0, 0, 0, 1, 1, 1, 0, 0, 0, 0,\n",
       "       0, 0, 0, 1, 1, 1, 1, 0, 1, 1])"
      ]
     },
     "execution_count": 119,
     "metadata": {},
     "output_type": "execute_result"
    }
   ],
   "source": [
    "# using the predict method we pass the X_test variable \n",
    "\n",
    "y_predict = model.predict(X_test)\n",
    "y_predict"
   ]
  },
  {
   "cell_type": "code",
   "execution_count": null,
   "metadata": {
    "id": "VpNNUodGGbVI"
   },
   "outputs": [],
   "source": [
    "from sklearn.metrics import accuracy_score"
   ]
  },
  {
   "cell_type": "code",
   "execution_count": null,
   "metadata": {
    "colab": {
     "base_uri": "https://localhost:8080/"
    },
    "id": "KaoziT0yGvLH",
    "outputId": "f1d34f94-91e2-40cc-c565-e1fbacfada95"
   },
   "outputs": [
    {
     "data": {
      "text/plain": [
       "0.8833333333333333"
      ]
     },
     "execution_count": 121,
     "metadata": {},
     "output_type": "execute_result"
    }
   ],
   "source": [
    "# calculating accuracy score \n",
    "\n",
    "score = accuracy_score(y_test,y_predict)\n",
    "score"
   ]
  },
  {
   "cell_type": "code",
   "execution_count": null,
   "metadata": {
    "colab": {
     "base_uri": "https://localhost:8080/"
    },
    "id": "PAzKtXm2G-YW",
    "outputId": "04b81bb0-d401-4289-ad76-4e047d569091"
   },
   "outputs": [
    {
     "data": {
      "text/plain": [
       "array([[75,  4],\n",
       "       [10, 31]])"
      ]
     },
     "execution_count": 122,
     "metadata": {},
     "output_type": "execute_result"
    }
   ],
   "source": [
    "# importing confusion matrix and displaying the results.\n",
    "\n",
    "from sklearn.metrics import confusion_matrix\n",
    "cm=confusion_matrix(y_test,y_predict)\n",
    "cm"
   ]
  },
  {
   "cell_type": "code",
   "execution_count": null,
   "metadata": {
    "colab": {
     "base_uri": "https://localhost:8080/",
     "height": 296
    },
    "id": "s-149B6BNE8s",
    "outputId": "55e7dc63-b92d-4d0f-ac1c-b9f1b8604177"
   },
   "outputs": [
    {
     "data": {
      "text/plain": [
       "<sklearn.metrics._plot.confusion_matrix.ConfusionMatrixDisplay at 0x7f167ce74510>"
      ]
     },
     "execution_count": 123,
     "metadata": {},
     "output_type": "execute_result"
    },
    {
     "data": {
      "image/png": "[encoded data removed]",
      "text/plain": [
       "<Figure size 432x288 with 2 Axes>"
      ]
     },
     "metadata": {
      "needs_background": "light"
     },
     "output_type": "display_data"
    }
   ],
   "source": [
    "# plotting the confusion matrix\n",
    "\n",
    "from sklearn.metrics import ConfusionMatrixDisplay\n",
    "ConfusionMatrixDisplay(cm).plot()"
   ]
  },
  {
   "cell_type": "code",
   "execution_count": null,
   "metadata": {
    "colab": {
     "base_uri": "https://localhost:8080/"
    },
    "id": "2TOdPgw3I1xD",
    "outputId": "8de508f4-bd22-473e-d04e-bba9731479e3"
   },
   "outputs": [
    {
     "data": {
      "text/plain": [
       "(75, 4, 10, 31)"
      ]
     },
     "execution_count": 124,
     "metadata": {},
     "output_type": "execute_result"
    }
   ],
   "source": [
    "# confusion matrix in terms of True negative,false positive,\n",
    "#false negative and true positive.\n",
    "\n",
    "tn,fp,fn,tp = confusion_matrix(y_test,y_predict).ravel()\n",
    "tn,fp,fn,tp"
   ]
  },
  {
   "cell_type": "code",
   "execution_count": null,
   "metadata": {
    "id": "mMCREQ5JJVGC"
   },
   "outputs": [],
   "source": [
    "from sklearn.metrics import precision_score,recall_score\n"
   ]
  },
  {
   "cell_type": "code",
   "execution_count": null,
   "metadata": {
    "colab": {
     "base_uri": "https://localhost:8080/"
    },
    "id": "SNZsdPs-KQmp",
    "outputId": "f1f1b2df-5ad4-4396-a195-620bfcdae8de"
   },
   "outputs": [
    {
     "data": {
      "text/plain": [
       "0.7560975609756098"
      ]
     },
     "execution_count": 127,
     "metadata": {},
     "output_type": "execute_result"
    }
   ],
   "source": [
    "# calculating recall score\n",
    "\n",
    "\"\"\"\n",
    "the ratio tp / (tp + fn)\n",
    "\"\"\"\n",
    "rs=recall_score(y_test,y_predict)\n",
    "rs\n"
   ]
  },
  {
   "cell_type": "code",
   "execution_count": null,
   "metadata": {
    "colab": {
     "base_uri": "https://localhost:8080/"
    },
    "id": "zQIxCZC8Kp8A",
    "outputId": "c6e4e6e1-9a65-48b8-f402-21fbd394c660"
   },
   "outputs": [
    {
     "data": {
      "text/plain": [
       "0.8857142857142857"
      ]
     },
     "execution_count": 128,
     "metadata": {},
     "output_type": "execute_result"
    }
   ],
   "source": [
    "# calculating precision score\n",
    "\n",
    "\"\"\"\n",
    "the ratio tp / (tp + fp)\n",
    "\"\"\"\n",
    "ps=precision_score(y_test,y_predict)\n",
    "ps"
   ]
  },
  {
   "cell_type": "code",
   "execution_count": null,
   "metadata": {
    "colab": {
     "base_uri": "https://localhost:8080/"
    },
    "id": "CdHTN0LkKu34",
    "outputId": "1d63dfac-cb44-4070-a8cf-f0d79e881fcb"
   },
   "outputs": [
    {
     "name": "stderr",
     "output_type": "stream",
     "text": [
      "/usr/local/lib/python3.7/dist-packages/sklearn/base.py:451: UserWarning: X does not have valid feature names, but StandardScaler was fitted with feature names\n",
      "  \"X does not have valid feature names, but\"\n"
     ]
    }
   ],
   "source": [
    "x_new = [[15594041,49,36000]]\n",
    "\n",
    "x_new=std.transform(x_new)"
   ]
  },
  {
   "cell_type": "code",
   "execution_count": null,
   "metadata": {
    "colab": {
     "base_uri": "https://localhost:8080/"
    },
    "id": "NL_-6MYWLqc_",
    "outputId": "0757f4ea-f372-4cde-e27a-a402ff717fdf"
   },
   "outputs": [
    {
     "data": {
      "text/plain": [
       "array([[0., 0., 0.]])"
      ]
     },
     "execution_count": 141,
     "metadata": {},
     "output_type": "execute_result"
    }
   ],
   "source": [
    "x_new1 = [[15594041,49,36000]]\n",
    "std1=StandardScaler()\n",
    "x_new1=std1.fit_transform(x_new1)\n",
    "x_new1"
   ]
  },
  {
   "cell_type": "code",
   "execution_count": null,
   "metadata": {
    "id": "ISixmZbwL9f-"
   },
   "outputs": [],
   "source": [
    "y_new = model.predict(x_new1)"
   ]
  },
  {
   "cell_type": "code",
   "execution_count": null,
   "metadata": {
    "colab": {
     "base_uri": "https://localhost:8080/"
    },
    "id": "wySCNxxDMB52",
    "outputId": "90d1bf33-fcac-49fb-a9d7-0af7656c6000"
   },
   "outputs": [
    {
     "data": {
      "text/plain": [
       "array([0])"
      ]
     },
     "execution_count": 143,
     "metadata": {},
     "output_type": "execute_result"
    }
   ],
   "source": [
    "y_new"
   ]
  },
  {
   "cell_type": "code",
   "execution_count": null,
   "metadata": {
    "id": "8VbDtPeGMRwl"
   },
   "outputs": [],
   "source": []
  }
 ],
 "metadata": {
  "colab": {
   "collapsed_sections": [],
   "name": "ASSIGNMENT-4_Social.ipynb",
   "provenance": []
  },
  "kernelspec": {
   "display_name": "Python 3",
   "language": "python",
   "name": "python3"
  },
  "language_info": {
   "codemirror_mode": {
    "name": "ipython",
    "version": 3
   },
   "file_extension": ".py",
   "mimetype": "text/x-python",
   "name": "python",
   "nbconvert_exporter": "python",
   "pygments_lexer": "ipython3",
   "version": "3.8.5"
  }
 },
 "nbformat": 4,
 "nbformat_minor": 1
}
